{
 "cells": [
  {
   "cell_type": "code",
   "execution_count": 1,
   "id": "0c6340d3",
   "metadata": {},
   "outputs": [
    {
     "name": "stderr",
     "output_type": "stream",
     "text": [
      "2022-11-19 22:01:16.413766: E tensorflow/stream_executor/cuda/cuda_blas.cc:2981] Unable to register cuBLAS factory: Attempting to register factory for plugin cuBLAS when one has already been registered\n"
     ]
    }
   ],
   "source": [
    "#Environment setup\n",
    "import os\n",
    "os.environ['TF_CPP_MIN_LOG_LEVEL'] = '2'\n",
    "os.environ['CUDA_VISIBLE_DEVICES'] = \"0\"\n",
    "import tensorflow as tf\n",
    "physical_devices = tf.config.experimental.list_physical_devices('GPU')\n",
    "assert len(physical_devices) > 0, \"Not enough GPU hardware devices available\"\n",
    "config = tf.config.experimental.set_memory_growth(physical_devices[0], True)\n",
    "#libraries loading\n",
    "import numpy as np\n",
    "import pandas as pd\n",
    "import matplotlib.pyplot as plt\n",
    "import math\n",
    "\n",
    "from sklearn.preprocessing import MinMaxScaler\n",
    "from sklearn.metrics import mean_squared_error\n",
    "\n",
    "from keras.models import Sequential\n",
    "from keras.layers import Dense\n",
    "from keras.layers import LSTM\n",
    "\n",
    "\n",
    "\n",
    "\n",
    "\n",
    "\n"
   ]
  },
  {
   "cell_type": "code",
   "execution_count": 2,
   "id": "95a0c067",
   "metadata": {},
   "outputs": [
    {
     "data": {
      "text/html": [
       "<div>\n",
       "<style scoped>\n",
       "    .dataframe tbody tr th:only-of-type {\n",
       "        vertical-align: middle;\n",
       "    }\n",
       "\n",
       "    .dataframe tbody tr th {\n",
       "        vertical-align: top;\n",
       "    }\n",
       "\n",
       "    .dataframe thead th {\n",
       "        text-align: right;\n",
       "    }\n",
       "</style>\n",
       "<table border=\"1\" class=\"dataframe\">\n",
       "  <thead>\n",
       "    <tr style=\"text-align: right;\">\n",
       "      <th></th>\n",
       "      <th>Date</th>\n",
       "      <th>Open</th>\n",
       "      <th>High</th>\n",
       "      <th>Low</th>\n",
       "      <th>Close</th>\n",
       "      <th>Adj Close</th>\n",
       "      <th>Volume</th>\n",
       "      <th>key</th>\n",
       "    </tr>\n",
       "  </thead>\n",
       "  <tbody>\n",
       "    <tr>\n",
       "      <th>0</th>\n",
       "      <td>2017-11-09</td>\n",
       "      <td>112.531998</td>\n",
       "      <td>123.404999</td>\n",
       "      <td>112.219002</td>\n",
       "      <td>120.779999</td>\n",
       "      <td>120.779999</td>\n",
       "      <td>86864600</td>\n",
       "      <td>xmr_usd</td>\n",
       "    </tr>\n",
       "    <tr>\n",
       "      <th>1</th>\n",
       "      <td>2017-11-10</td>\n",
       "      <td>121.344002</td>\n",
       "      <td>121.665001</td>\n",
       "      <td>101.757004</td>\n",
       "      <td>105.585999</td>\n",
       "      <td>105.585999</td>\n",
       "      <td>84614000</td>\n",
       "      <td>xmr_usd</td>\n",
       "    </tr>\n",
       "    <tr>\n",
       "      <th>2</th>\n",
       "      <td>2017-11-11</td>\n",
       "      <td>105.750000</td>\n",
       "      <td>127.106003</td>\n",
       "      <td>103.877998</td>\n",
       "      <td>119.615997</td>\n",
       "      <td>119.615997</td>\n",
       "      <td>107708000</td>\n",
       "      <td>xmr_usd</td>\n",
       "    </tr>\n",
       "    <tr>\n",
       "      <th>3</th>\n",
       "      <td>2017-11-12</td>\n",
       "      <td>119.597000</td>\n",
       "      <td>133.675003</td>\n",
       "      <td>110.617996</td>\n",
       "      <td>123.856003</td>\n",
       "      <td>123.856003</td>\n",
       "      <td>144948000</td>\n",
       "      <td>xmr_usd</td>\n",
       "    </tr>\n",
       "    <tr>\n",
       "      <th>4</th>\n",
       "      <td>2017-11-13</td>\n",
       "      <td>128.960007</td>\n",
       "      <td>136.528000</td>\n",
       "      <td>120.921997</td>\n",
       "      <td>123.402000</td>\n",
       "      <td>123.402000</td>\n",
       "      <td>116200000</td>\n",
       "      <td>xmr_usd</td>\n",
       "    </tr>\n",
       "  </tbody>\n",
       "</table>\n",
       "</div>"
      ],
      "text/plain": [
       "         Date        Open        High         Low       Close   Adj Close  \\\n",
       "0  2017-11-09  112.531998  123.404999  112.219002  120.779999  120.779999   \n",
       "1  2017-11-10  121.344002  121.665001  101.757004  105.585999  105.585999   \n",
       "2  2017-11-11  105.750000  127.106003  103.877998  119.615997  119.615997   \n",
       "3  2017-11-12  119.597000  133.675003  110.617996  123.856003  123.856003   \n",
       "4  2017-11-13  128.960007  136.528000  120.921997  123.402000  123.402000   \n",
       "\n",
       "      Volume      key  \n",
       "0   86864600  xmr_usd  \n",
       "1   84614000  xmr_usd  \n",
       "2  107708000  xmr_usd  \n",
       "3  144948000  xmr_usd  \n",
       "4  116200000  xmr_usd  "
      ]
     },
     "execution_count": 2,
     "metadata": {},
     "output_type": "execute_result"
    }
   ],
   "source": [
    "data_xmr = pd.read_csv(\"XMR-USD.csv\")# Data loading\n",
    "\n",
    "\n",
    "data_xmr.head()#data viewing"
   ]
  },
  {
   "cell_type": "code",
   "execution_count": null,
   "id": "7c7474ce",
   "metadata": {},
   "outputs": [],
   "source": []
  },
  {
   "cell_type": "code",
   "execution_count": 3,
   "id": "5fc870d2",
   "metadata": {},
   "outputs": [
    {
     "data": {
      "text/plain": [
       "381.303009    2\n",
       "112.531998    1\n",
       "224.992722    1\n",
       "206.349228    1\n",
       "217.350159    1\n",
       "             ..\n",
       "88.441093     1\n",
       "87.759079     1\n",
       "100.008926    1\n",
       "101.674782    1\n",
       "140.747223    1\n",
       "Name: Open, Length: 1808, dtype: int64"
      ]
     },
     "execution_count": 3,
     "metadata": {},
     "output_type": "execute_result"
    }
   ],
   "source": [
    "#counting how many times a similar value occurs\n",
    "data_xmr['Close'].value_counts() \n",
    "data_xmr['Open'].value_counts()"
   ]
  },
  {
   "cell_type": "code",
   "execution_count": 4,
   "id": "ffbc5bb1",
   "metadata": {
    "scrolled": false
   },
   "outputs": [
    {
     "data": {
      "text/html": [
       "<div>\n",
       "<style scoped>\n",
       "    .dataframe tbody tr th:only-of-type {\n",
       "        vertical-align: middle;\n",
       "    }\n",
       "\n",
       "    .dataframe tbody tr th {\n",
       "        vertical-align: top;\n",
       "    }\n",
       "\n",
       "    .dataframe thead th {\n",
       "        text-align: right;\n",
       "    }\n",
       "</style>\n",
       "<table border=\"1\" class=\"dataframe\">\n",
       "  <thead>\n",
       "    <tr style=\"text-align: right;\">\n",
       "      <th></th>\n",
       "      <th>Date</th>\n",
       "      <th>Open</th>\n",
       "      <th>High</th>\n",
       "      <th>Low</th>\n",
       "      <th>Close</th>\n",
       "      <th>Adj Close</th>\n",
       "      <th>Volume</th>\n",
       "      <th>key</th>\n",
       "    </tr>\n",
       "  </thead>\n",
       "  <tbody>\n",
       "    <tr>\n",
       "      <th>0</th>\n",
       "      <td>2017-11-09</td>\n",
       "      <td>112.531998</td>\n",
       "      <td>123.404999</td>\n",
       "      <td>112.219002</td>\n",
       "      <td>120.779999</td>\n",
       "      <td>120.779999</td>\n",
       "      <td>86864600</td>\n",
       "      <td>xmr_usd</td>\n",
       "    </tr>\n",
       "    <tr>\n",
       "      <th>1</th>\n",
       "      <td>2017-11-10</td>\n",
       "      <td>121.344002</td>\n",
       "      <td>121.665001</td>\n",
       "      <td>101.757004</td>\n",
       "      <td>105.585999</td>\n",
       "      <td>105.585999</td>\n",
       "      <td>84614000</td>\n",
       "      <td>xmr_usd</td>\n",
       "    </tr>\n",
       "    <tr>\n",
       "      <th>2</th>\n",
       "      <td>2017-11-11</td>\n",
       "      <td>105.750000</td>\n",
       "      <td>127.106003</td>\n",
       "      <td>103.877998</td>\n",
       "      <td>119.615997</td>\n",
       "      <td>119.615997</td>\n",
       "      <td>107708000</td>\n",
       "      <td>xmr_usd</td>\n",
       "    </tr>\n",
       "    <tr>\n",
       "      <th>3</th>\n",
       "      <td>2017-11-12</td>\n",
       "      <td>119.597000</td>\n",
       "      <td>133.675003</td>\n",
       "      <td>110.617996</td>\n",
       "      <td>123.856003</td>\n",
       "      <td>123.856003</td>\n",
       "      <td>144948000</td>\n",
       "      <td>xmr_usd</td>\n",
       "    </tr>\n",
       "    <tr>\n",
       "      <th>4</th>\n",
       "      <td>2017-11-13</td>\n",
       "      <td>128.960007</td>\n",
       "      <td>136.528000</td>\n",
       "      <td>120.921997</td>\n",
       "      <td>123.402000</td>\n",
       "      <td>123.402000</td>\n",
       "      <td>116200000</td>\n",
       "      <td>xmr_usd</td>\n",
       "    </tr>\n",
       "    <tr>\n",
       "      <th>...</th>\n",
       "      <td>...</td>\n",
       "      <td>...</td>\n",
       "      <td>...</td>\n",
       "      <td>...</td>\n",
       "      <td>...</td>\n",
       "      <td>...</td>\n",
       "      <td>...</td>\n",
       "      <td>...</td>\n",
       "    </tr>\n",
       "    <tr>\n",
       "      <th>1804</th>\n",
       "      <td>2022-10-18</td>\n",
       "      <td>143.624588</td>\n",
       "      <td>148.039398</td>\n",
       "      <td>142.697784</td>\n",
       "      <td>146.093826</td>\n",
       "      <td>146.093826</td>\n",
       "      <td>118028731</td>\n",
       "      <td>xmr_usd</td>\n",
       "    </tr>\n",
       "    <tr>\n",
       "      <th>1805</th>\n",
       "      <td>2022-10-19</td>\n",
       "      <td>146.099319</td>\n",
       "      <td>148.462082</td>\n",
       "      <td>144.796875</td>\n",
       "      <td>145.044846</td>\n",
       "      <td>145.044846</td>\n",
       "      <td>81641779</td>\n",
       "      <td>xmr_usd</td>\n",
       "    </tr>\n",
       "    <tr>\n",
       "      <th>1806</th>\n",
       "      <td>2022-10-20</td>\n",
       "      <td>145.041626</td>\n",
       "      <td>148.424316</td>\n",
       "      <td>140.163910</td>\n",
       "      <td>141.207642</td>\n",
       "      <td>141.207642</td>\n",
       "      <td>86726962</td>\n",
       "      <td>xmr_usd</td>\n",
       "    </tr>\n",
       "    <tr>\n",
       "      <th>1807</th>\n",
       "      <td>2022-10-21</td>\n",
       "      <td>141.195435</td>\n",
       "      <td>143.249649</td>\n",
       "      <td>137.309967</td>\n",
       "      <td>140.729477</td>\n",
       "      <td>140.729477</td>\n",
       "      <td>80536580</td>\n",
       "      <td>xmr_usd</td>\n",
       "    </tr>\n",
       "    <tr>\n",
       "      <th>1808</th>\n",
       "      <td>2022-10-22</td>\n",
       "      <td>140.747223</td>\n",
       "      <td>142.579742</td>\n",
       "      <td>139.836685</td>\n",
       "      <td>142.070938</td>\n",
       "      <td>142.070938</td>\n",
       "      <td>52260144</td>\n",
       "      <td>xmr_usd</td>\n",
       "    </tr>\n",
       "  </tbody>\n",
       "</table>\n",
       "<p>1809 rows × 8 columns</p>\n",
       "</div>"
      ],
      "text/plain": [
       "            Date        Open        High         Low       Close   Adj Close  \\\n",
       "0     2017-11-09  112.531998  123.404999  112.219002  120.779999  120.779999   \n",
       "1     2017-11-10  121.344002  121.665001  101.757004  105.585999  105.585999   \n",
       "2     2017-11-11  105.750000  127.106003  103.877998  119.615997  119.615997   \n",
       "3     2017-11-12  119.597000  133.675003  110.617996  123.856003  123.856003   \n",
       "4     2017-11-13  128.960007  136.528000  120.921997  123.402000  123.402000   \n",
       "...          ...         ...         ...         ...         ...         ...   \n",
       "1804  2022-10-18  143.624588  148.039398  142.697784  146.093826  146.093826   \n",
       "1805  2022-10-19  146.099319  148.462082  144.796875  145.044846  145.044846   \n",
       "1806  2022-10-20  145.041626  148.424316  140.163910  141.207642  141.207642   \n",
       "1807  2022-10-21  141.195435  143.249649  137.309967  140.729477  140.729477   \n",
       "1808  2022-10-22  140.747223  142.579742  139.836685  142.070938  142.070938   \n",
       "\n",
       "         Volume      key  \n",
       "0      86864600  xmr_usd  \n",
       "1      84614000  xmr_usd  \n",
       "2     107708000  xmr_usd  \n",
       "3     144948000  xmr_usd  \n",
       "4     116200000  xmr_usd  \n",
       "...         ...      ...  \n",
       "1804  118028731  xmr_usd  \n",
       "1805   81641779  xmr_usd  \n",
       "1806   86726962  xmr_usd  \n",
       "1807   80536580  xmr_usd  \n",
       "1808   52260144  xmr_usd  \n",
       "\n",
       "[1809 rows x 8 columns]"
      ]
     },
     "execution_count": 4,
     "metadata": {},
     "output_type": "execute_result"
    }
   ],
   "source": [
    "df = data_xmr.loc[(data_xmr['key'] == 'xmr_usd')]\n",
    "df.head(1810)"
   ]
  },
  {
   "cell_type": "code",
   "execution_count": 5,
   "id": "8340d623",
   "metadata": {},
   "outputs": [],
   "source": [
    "#date time collection\n",
    "df = df.reset_index(drop=True)\n",
    "df['Date'] = pd.to_datetime(df['Date'])\n",
    "df = df.loc[df['Date'] > pd.to_datetime('2017-06-28')]"
   ]
  },
  {
   "cell_type": "code",
   "execution_count": 6,
   "id": "31e5303e",
   "metadata": {},
   "outputs": [],
   "source": [
    "df = df[['Date','Open','Close','High','Low','Volume']]"
   ]
  },
  {
   "cell_type": "code",
   "execution_count": 7,
   "id": "817ad86f",
   "metadata": {},
   "outputs": [
    {
     "data": {
      "text/html": [
       "<div>\n",
       "<style scoped>\n",
       "    .dataframe tbody tr th:only-of-type {\n",
       "        vertical-align: middle;\n",
       "    }\n",
       "\n",
       "    .dataframe tbody tr th {\n",
       "        vertical-align: top;\n",
       "    }\n",
       "\n",
       "    .dataframe thead th {\n",
       "        text-align: right;\n",
       "    }\n",
       "</style>\n",
       "<table border=\"1\" class=\"dataframe\">\n",
       "  <thead>\n",
       "    <tr style=\"text-align: right;\">\n",
       "      <th></th>\n",
       "      <th>Date</th>\n",
       "      <th>Open</th>\n",
       "      <th>Close</th>\n",
       "      <th>High</th>\n",
       "      <th>Low</th>\n",
       "      <th>Volume</th>\n",
       "    </tr>\n",
       "  </thead>\n",
       "  <tbody>\n",
       "    <tr>\n",
       "      <th>0</th>\n",
       "      <td>2017-11-09</td>\n",
       "      <td>112.531998</td>\n",
       "      <td>120.779999</td>\n",
       "      <td>123.404999</td>\n",
       "      <td>112.219002</td>\n",
       "      <td>86864600</td>\n",
       "    </tr>\n",
       "    <tr>\n",
       "      <th>1</th>\n",
       "      <td>2017-11-10</td>\n",
       "      <td>121.344002</td>\n",
       "      <td>105.585999</td>\n",
       "      <td>121.665001</td>\n",
       "      <td>101.757004</td>\n",
       "      <td>84614000</td>\n",
       "    </tr>\n",
       "    <tr>\n",
       "      <th>2</th>\n",
       "      <td>2017-11-11</td>\n",
       "      <td>105.750000</td>\n",
       "      <td>119.615997</td>\n",
       "      <td>127.106003</td>\n",
       "      <td>103.877998</td>\n",
       "      <td>107708000</td>\n",
       "    </tr>\n",
       "    <tr>\n",
       "      <th>3</th>\n",
       "      <td>2017-11-12</td>\n",
       "      <td>119.597000</td>\n",
       "      <td>123.856003</td>\n",
       "      <td>133.675003</td>\n",
       "      <td>110.617996</td>\n",
       "      <td>144948000</td>\n",
       "    </tr>\n",
       "    <tr>\n",
       "      <th>4</th>\n",
       "      <td>2017-11-13</td>\n",
       "      <td>128.960007</td>\n",
       "      <td>123.402000</td>\n",
       "      <td>136.528000</td>\n",
       "      <td>120.921997</td>\n",
       "      <td>116200000</td>\n",
       "    </tr>\n",
       "  </tbody>\n",
       "</table>\n",
       "</div>"
      ],
      "text/plain": [
       "        Date        Open       Close        High         Low     Volume\n",
       "0 2017-11-09  112.531998  120.779999  123.404999  112.219002   86864600\n",
       "1 2017-11-10  121.344002  105.585999  121.665001  101.757004   84614000\n",
       "2 2017-11-11  105.750000  119.615997  127.106003  103.877998  107708000\n",
       "3 2017-11-12  119.597000  123.856003  133.675003  110.617996  144948000\n",
       "4 2017-11-13  128.960007  123.402000  136.528000  120.921997  116200000"
      ]
     },
     "execution_count": 7,
     "metadata": {},
     "output_type": "execute_result"
    }
   ],
   "source": [
    "df.head()"
   ]
  },
  {
   "cell_type": "code",
   "execution_count": 8,
   "id": "4820dab5",
   "metadata": {},
   "outputs": [],
   "source": [
    "df = df[['Close']]"
   ]
  },
  {
   "cell_type": "code",
   "execution_count": 9,
   "id": "594bf6fa",
   "metadata": {},
   "outputs": [],
   "source": [
    "dataset = df.values\n",
    "dataset = dataset.astype('float32')"
   ]
  },
  {
   "cell_type": "code",
   "execution_count": 10,
   "id": "e8408c55",
   "metadata": {},
   "outputs": [
    {
     "data": {
      "text/plain": [
       "array([[120.78   ],\n",
       "       [105.586  ],\n",
       "       [119.616  ],\n",
       "       ...,\n",
       "       [141.20764],\n",
       "       [140.72948],\n",
       "       [142.07094]], dtype=float32)"
      ]
     },
     "execution_count": 10,
     "metadata": {},
     "output_type": "execute_result"
    }
   ],
   "source": [
    "dataset"
   ]
  },
  {
   "cell_type": "code",
   "execution_count": 11,
   "id": "4541b2c1",
   "metadata": {},
   "outputs": [],
   "source": [
    "#Rescaling the data\n",
    "scaler = MinMaxScaler(feature_range=(0, 1))\n",
    "dataset_scale = scaler.fit_transform(dataset)"
   ]
  },
  {
   "cell_type": "code",
   "execution_count": 12,
   "id": "0a2f5e73",
   "metadata": {},
   "outputs": [
    {
     "data": {
      "text/plain": [
       "array([[0.19479558],\n",
       "       [0.16107407],\n",
       "       [0.1922122 ],\n",
       "       ...,\n",
       "       [0.24013257],\n",
       "       [0.23907134],\n",
       "       [0.24204856]], dtype=float32)"
      ]
     },
     "execution_count": 12,
     "metadata": {},
     "output_type": "execute_result"
    }
   ],
   "source": [
    "dataset_scale"
   ]
  },
  {
   "cell_type": "code",
   "execution_count": 13,
   "id": "b7819190",
   "metadata": {},
   "outputs": [
    {
     "name": "stdout",
     "output_type": "stream",
     "text": [
      "1282 527\n"
     ]
    }
   ],
   "source": [
    "#training set size\n",
    "train_size = int(len(dataset_scale) * 0.709)\n",
    "test_size = len(dataset_scale) - train_size\n",
    "train, test = dataset_scale[0:train_size, :], dataset_scale[train_size:len(dataset), :]\n",
    "print(len(train), len(test))"
   ]
  },
  {
   "cell_type": "code",
   "execution_count": 14,
   "id": "366cdbb3",
   "metadata": {},
   "outputs": [],
   "source": [
    "# convert an array of values into a dataset matrix\n",
    "def create_dataset(dataset, look_back=1):\n",
    "  dataX, dataY = [], []\n",
    "  for i in range(len(dataset)-look_back-1):\n",
    "    a = dataset[i:(i+look_back), 0]\n",
    "    dataX.append(a)\n",
    "    dataY.append(dataset[i + look_back, 0])\n",
    "  return np.array(dataX), np.array(dataY)"
   ]
  },
  {
   "cell_type": "code",
   "execution_count": 15,
   "id": "1918c4ed",
   "metadata": {},
   "outputs": [],
   "source": [
    "look_back = 20\n",
    "trainX, trainY = create_dataset(train, look_back=look_back)\n",
    "testX, testY = create_dataset(test, look_back=look_back)\n"
   ]
  },
  {
   "cell_type": "code",
   "execution_count": 16,
   "id": "c8de127a",
   "metadata": {},
   "outputs": [
    {
     "data": {
      "text/plain": [
       "array([[0.19479558, 0.16107407, 0.1922122 , ..., 0.28932846, 0.31156236,\n",
       "        0.3777403 ],\n",
       "       [0.16107407, 0.1922122 , 0.20162243, ..., 0.31156236, 0.3777403 ,\n",
       "        0.29992828],\n",
       "       [0.1922122 , 0.20162243, 0.20061484, ..., 0.3777403 , 0.29992828,\n",
       "        0.32653442],\n",
       "       ...,\n",
       "       [0.81717575, 0.76962095, 0.6991752 , ..., 0.9413223 , 0.9819989 ,\n",
       "        1.        ],\n",
       "       [0.76962095, 0.6991752 , 0.7143635 , ..., 0.9819989 , 1.        ,\n",
       "        0.9069047 ],\n",
       "       [0.6991752 , 0.7143635 , 0.7712475 , ..., 1.        , 0.9069047 ,\n",
       "        0.9333017 ]], dtype=float32)"
      ]
     },
     "execution_count": 16,
     "metadata": {},
     "output_type": "execute_result"
    }
   ],
   "source": [
    "trainX\n"
   ]
  },
  {
   "cell_type": "code",
   "execution_count": 17,
   "id": "221a1835",
   "metadata": {},
   "outputs": [
    {
     "data": {
      "text/plain": [
       "array([0.29992828, 0.32653442, 0.3505039 , ..., 0.9069047 , 0.9333017 ,\n",
       "       0.7975897 ], dtype=float32)"
      ]
     },
     "execution_count": 17,
     "metadata": {},
     "output_type": "execute_result"
    }
   ],
   "source": [
    "trainY"
   ]
  },
  {
   "cell_type": "code",
   "execution_count": 18,
   "id": "06a10b60",
   "metadata": {},
   "outputs": [],
   "source": [
    "# reshape input to be [samples, time steps, features]\n",
    "trainX = np.reshape(trainX, (trainX.shape[0], 1, trainX.shape[1]))\n",
    "\n",
    "testX = np.reshape(testX, (testX.shape[0], 1, testX.shape[1]))"
   ]
  },
  {
   "cell_type": "code",
   "execution_count": 19,
   "id": "eaab67b7",
   "metadata": {
    "scrolled": true
   },
   "outputs": [
    {
     "name": "stdout",
     "output_type": "stream",
     "text": [
      "Epoch 1/105\n",
      "5/5 - 2s - loss: 0.1035 - 2s/epoch - 393ms/step\n",
      "Epoch 2/105\n",
      "5/5 - 0s - loss: 0.0923 - 9ms/epoch - 2ms/step\n",
      "Epoch 3/105\n",
      "5/5 - 0s - loss: 0.0814 - 10ms/epoch - 2ms/step\n",
      "Epoch 4/105\n",
      "5/5 - 0s - loss: 0.0712 - 9ms/epoch - 2ms/step\n",
      "Epoch 5/105\n",
      "5/5 - 0s - loss: 0.0617 - 9ms/epoch - 2ms/step\n",
      "Epoch 6/105\n",
      "5/5 - 0s - loss: 0.0526 - 7ms/epoch - 1ms/step\n",
      "Epoch 7/105\n",
      "5/5 - 0s - loss: 0.0445 - 8ms/epoch - 2ms/step\n",
      "Epoch 8/105\n",
      "5/5 - 0s - loss: 0.0371 - 9ms/epoch - 2ms/step\n",
      "Epoch 9/105\n",
      "5/5 - 0s - loss: 0.0307 - 8ms/epoch - 2ms/step\n",
      "Epoch 10/105\n",
      "5/5 - 0s - loss: 0.0249 - 9ms/epoch - 2ms/step\n",
      "Epoch 11/105\n",
      "5/5 - 0s - loss: 0.0200 - 7ms/epoch - 1ms/step\n",
      "Epoch 12/105\n",
      "5/5 - 0s - loss: 0.0162 - 9ms/epoch - 2ms/step\n",
      "Epoch 13/105\n",
      "5/5 - 0s - loss: 0.0131 - 8ms/epoch - 2ms/step\n",
      "Epoch 14/105\n",
      "5/5 - 0s - loss: 0.0109 - 8ms/epoch - 2ms/step\n",
      "Epoch 15/105\n",
      "5/5 - 0s - loss: 0.0092 - 8ms/epoch - 2ms/step\n",
      "Epoch 16/105\n",
      "5/5 - 0s - loss: 0.0081 - 8ms/epoch - 2ms/step\n",
      "Epoch 17/105\n",
      "5/5 - 0s - loss: 0.0072 - 8ms/epoch - 2ms/step\n",
      "Epoch 18/105\n",
      "5/5 - 0s - loss: 0.0067 - 7ms/epoch - 1ms/step\n",
      "Epoch 19/105\n",
      "5/5 - 0s - loss: 0.0063 - 9ms/epoch - 2ms/step\n",
      "Epoch 20/105\n",
      "5/5 - 0s - loss: 0.0059 - 7ms/epoch - 1ms/step\n",
      "Epoch 21/105\n",
      "5/5 - 0s - loss: 0.0056 - 9ms/epoch - 2ms/step\n",
      "Epoch 22/105\n",
      "5/5 - 0s - loss: 0.0053 - 8ms/epoch - 2ms/step\n",
      "Epoch 23/105\n",
      "5/5 - 0s - loss: 0.0051 - 8ms/epoch - 2ms/step\n",
      "Epoch 24/105\n",
      "5/5 - 0s - loss: 0.0048 - 8ms/epoch - 2ms/step\n",
      "Epoch 25/105\n",
      "5/5 - 0s - loss: 0.0046 - 8ms/epoch - 2ms/step\n",
      "Epoch 26/105\n",
      "5/5 - 0s - loss: 0.0043 - 8ms/epoch - 2ms/step\n",
      "Epoch 27/105\n",
      "5/5 - 0s - loss: 0.0041 - 8ms/epoch - 2ms/step\n",
      "Epoch 28/105\n",
      "5/5 - 0s - loss: 0.0040 - 8ms/epoch - 2ms/step\n",
      "Epoch 29/105\n",
      "5/5 - 0s - loss: 0.0038 - 7ms/epoch - 1ms/step\n",
      "Epoch 30/105\n",
      "5/5 - 0s - loss: 0.0037 - 9ms/epoch - 2ms/step\n",
      "Epoch 31/105\n",
      "5/5 - 0s - loss: 0.0035 - 7ms/epoch - 1ms/step\n",
      "Epoch 32/105\n",
      "5/5 - 0s - loss: 0.0034 - 9ms/epoch - 2ms/step\n",
      "Epoch 33/105\n",
      "5/5 - 0s - loss: 0.0033 - 7ms/epoch - 1ms/step\n",
      "Epoch 34/105\n",
      "5/5 - 0s - loss: 0.0032 - 9ms/epoch - 2ms/step\n",
      "Epoch 35/105\n",
      "5/5 - 0s - loss: 0.0031 - 8ms/epoch - 2ms/step\n",
      "Epoch 36/105\n",
      "5/5 - 0s - loss: 0.0030 - 8ms/epoch - 2ms/step\n",
      "Epoch 37/105\n",
      "5/5 - 0s - loss: 0.0030 - 8ms/epoch - 2ms/step\n",
      "Epoch 38/105\n",
      "5/5 - 0s - loss: 0.0029 - 8ms/epoch - 2ms/step\n",
      "Epoch 39/105\n",
      "5/5 - 0s - loss: 0.0028 - 8ms/epoch - 2ms/step\n",
      "Epoch 40/105\n",
      "5/5 - 0s - loss: 0.0028 - 7ms/epoch - 1ms/step\n",
      "Epoch 41/105\n",
      "5/5 - 0s - loss: 0.0027 - 8ms/epoch - 2ms/step\n",
      "Epoch 42/105\n",
      "5/5 - 0s - loss: 0.0027 - 7ms/epoch - 1ms/step\n",
      "Epoch 43/105\n",
      "5/5 - 0s - loss: 0.0027 - 8ms/epoch - 2ms/step\n",
      "Epoch 44/105\n",
      "5/5 - 0s - loss: 0.0026 - 7ms/epoch - 1ms/step\n",
      "Epoch 45/105\n",
      "5/5 - 0s - loss: 0.0026 - 9ms/epoch - 2ms/step\n",
      "Epoch 46/105\n",
      "5/5 - 0s - loss: 0.0026 - 8ms/epoch - 2ms/step\n",
      "Epoch 47/105\n",
      "5/5 - 0s - loss: 0.0025 - 8ms/epoch - 2ms/step\n",
      "Epoch 48/105\n",
      "5/5 - 0s - loss: 0.0025 - 8ms/epoch - 2ms/step\n",
      "Epoch 49/105\n",
      "5/5 - 0s - loss: 0.0025 - 8ms/epoch - 2ms/step\n",
      "Epoch 50/105\n",
      "5/5 - 0s - loss: 0.0025 - 9ms/epoch - 2ms/step\n",
      "Epoch 51/105\n",
      "5/5 - 0s - loss: 0.0025 - 8ms/epoch - 2ms/step\n",
      "Epoch 52/105\n",
      "5/5 - 0s - loss: 0.0024 - 8ms/epoch - 2ms/step\n",
      "Epoch 53/105\n",
      "5/5 - 0s - loss: 0.0024 - 7ms/epoch - 1ms/step\n",
      "Epoch 54/105\n",
      "5/5 - 0s - loss: 0.0024 - 9ms/epoch - 2ms/step\n",
      "Epoch 55/105\n",
      "5/5 - 0s - loss: 0.0024 - 8ms/epoch - 2ms/step\n",
      "Epoch 56/105\n",
      "5/5 - 0s - loss: 0.0024 - 8ms/epoch - 2ms/step\n",
      "Epoch 57/105\n",
      "5/5 - 0s - loss: 0.0023 - 8ms/epoch - 2ms/step\n",
      "Epoch 58/105\n",
      "5/5 - 0s - loss: 0.0023 - 8ms/epoch - 2ms/step\n",
      "Epoch 59/105\n",
      "5/5 - 0s - loss: 0.0023 - 8ms/epoch - 2ms/step\n",
      "Epoch 60/105\n",
      "5/5 - 0s - loss: 0.0023 - 8ms/epoch - 2ms/step\n",
      "Epoch 61/105\n",
      "5/5 - 0s - loss: 0.0023 - 15ms/epoch - 3ms/step\n",
      "Epoch 62/105\n",
      "5/5 - 0s - loss: 0.0023 - 15ms/epoch - 3ms/step\n",
      "Epoch 63/105\n",
      "5/5 - 0s - loss: 0.0023 - 15ms/epoch - 3ms/step\n",
      "Epoch 64/105\n",
      "5/5 - 0s - loss: 0.0022 - 13ms/epoch - 3ms/step\n",
      "Epoch 65/105\n",
      "5/5 - 0s - loss: 0.0022 - 8ms/epoch - 2ms/step\n",
      "Epoch 66/105\n",
      "5/5 - 0s - loss: 0.0022 - 7ms/epoch - 1ms/step\n",
      "Epoch 67/105\n",
      "5/5 - 0s - loss: 0.0022 - 9ms/epoch - 2ms/step\n",
      "Epoch 68/105\n",
      "5/5 - 0s - loss: 0.0022 - 8ms/epoch - 2ms/step\n",
      "Epoch 69/105\n",
      "5/5 - 0s - loss: 0.0022 - 8ms/epoch - 2ms/step\n",
      "Epoch 70/105\n",
      "5/5 - 0s - loss: 0.0022 - 7ms/epoch - 1ms/step\n",
      "Epoch 71/105\n",
      "5/5 - 0s - loss: 0.0021 - 8ms/epoch - 2ms/step\n",
      "Epoch 72/105\n",
      "5/5 - 0s - loss: 0.0021 - 7ms/epoch - 1ms/step\n",
      "Epoch 73/105\n",
      "5/5 - 0s - loss: 0.0021 - 8ms/epoch - 2ms/step\n",
      "Epoch 74/105\n",
      "5/5 - 0s - loss: 0.0021 - 8ms/epoch - 2ms/step\n",
      "Epoch 75/105\n",
      "5/5 - 0s - loss: 0.0021 - 8ms/epoch - 2ms/step\n",
      "Epoch 76/105\n",
      "5/5 - 0s - loss: 0.0021 - 8ms/epoch - 2ms/step\n",
      "Epoch 77/105\n",
      "5/5 - 0s - loss: 0.0021 - 8ms/epoch - 2ms/step\n",
      "Epoch 78/105\n",
      "5/5 - 0s - loss: 0.0021 - 9ms/epoch - 2ms/step\n",
      "Epoch 79/105\n",
      "5/5 - 0s - loss: 0.0020 - 7ms/epoch - 1ms/step\n",
      "Epoch 80/105\n",
      "5/5 - 0s - loss: 0.0020 - 9ms/epoch - 2ms/step\n",
      "Epoch 81/105\n",
      "5/5 - 0s - loss: 0.0020 - 7ms/epoch - 1ms/step\n",
      "Epoch 82/105\n",
      "5/5 - 0s - loss: 0.0020 - 8ms/epoch - 2ms/step\n",
      "Epoch 83/105\n",
      "5/5 - 0s - loss: 0.0020 - 8ms/epoch - 2ms/step\n",
      "Epoch 84/105\n",
      "5/5 - 0s - loss: 0.0020 - 8ms/epoch - 2ms/step\n",
      "Epoch 85/105\n",
      "5/5 - 0s - loss: 0.0020 - 8ms/epoch - 2ms/step\n",
      "Epoch 86/105\n",
      "5/5 - 0s - loss: 0.0020 - 8ms/epoch - 2ms/step\n",
      "Epoch 87/105\n",
      "5/5 - 0s - loss: 0.0019 - 9ms/epoch - 2ms/step\n",
      "Epoch 88/105\n",
      "5/5 - 0s - loss: 0.0019 - 8ms/epoch - 2ms/step\n",
      "Epoch 89/105\n",
      "5/5 - 0s - loss: 0.0019 - 9ms/epoch - 2ms/step\n",
      "Epoch 90/105\n",
      "5/5 - 0s - loss: 0.0019 - 7ms/epoch - 1ms/step\n",
      "Epoch 91/105\n",
      "5/5 - 0s - loss: 0.0019 - 8ms/epoch - 2ms/step\n",
      "Epoch 92/105\n",
      "5/5 - 0s - loss: 0.0019 - 8ms/epoch - 2ms/step\n",
      "Epoch 93/105\n",
      "5/5 - 0s - loss: 0.0019 - 8ms/epoch - 2ms/step\n",
      "Epoch 94/105\n",
      "5/5 - 0s - loss: 0.0019 - 8ms/epoch - 2ms/step\n",
      "Epoch 95/105\n",
      "5/5 - 0s - loss: 0.0018 - 8ms/epoch - 2ms/step\n",
      "Epoch 96/105\n",
      "5/5 - 0s - loss: 0.0018 - 8ms/epoch - 2ms/step\n",
      "Epoch 97/105\n",
      "5/5 - 0s - loss: 0.0018 - 8ms/epoch - 2ms/step\n",
      "Epoch 98/105\n",
      "5/5 - 0s - loss: 0.0018 - 8ms/epoch - 2ms/step\n",
      "Epoch 99/105\n",
      "5/5 - 0s - loss: 0.0018 - 7ms/epoch - 1ms/step\n",
      "Epoch 100/105\n",
      "5/5 - 0s - loss: 0.0018 - 9ms/epoch - 2ms/step\n",
      "Epoch 101/105\n",
      "5/5 - 0s - loss: 0.0018 - 7ms/epoch - 1ms/step\n",
      "Epoch 102/105\n",
      "5/5 - 0s - loss: 0.0018 - 8ms/epoch - 2ms/step\n",
      "Epoch 103/105\n",
      "5/5 - 0s - loss: 0.0018 - 7ms/epoch - 1ms/step\n",
      "Epoch 104/105\n",
      "5/5 - 0s - loss: 0.0017 - 8ms/epoch - 2ms/step\n",
      "Epoch 105/105\n",
      "5/5 - 0s - loss: 0.0017 - 8ms/epoch - 2ms/step\n"
     ]
    },
    {
     "data": {
      "text/plain": [
       "<keras.callbacks.History at 0x7f70b019af50>"
      ]
     },
     "execution_count": 19,
     "metadata": {},
     "output_type": "execute_result"
    }
   ],
   "source": [
    "#Model set-up\n",
    "model = Sequential()\n",
    "model.add(LSTM(4, input_shape=(1, look_back)))\n",
    "model.add(Dense(1))\n",
    "model.compile(loss='mean_squared_error', optimizer='adam')\n",
    "model.fit(trainX, trainY, epochs=105, batch_size=280, verbose=2)"
   ]
  },
  {
   "cell_type": "code",
   "execution_count": 20,
   "id": "9dba29e2",
   "metadata": {},
   "outputs": [
    {
     "name": "stdout",
     "output_type": "stream",
     "text": [
      "40/40 [==============================] - 0s 788us/step\n",
      "16/16 [==============================] - 0s 799us/step\n"
     ]
    }
   ],
   "source": [
    "trainPredict = model.predict(trainX)\n",
    "testPredict = model.predict(testX)"
   ]
  },
  {
   "cell_type": "code",
   "execution_count": 118,
   "id": "df96a567",
   "metadata": {},
   "outputs": [],
   "source": [
    "trainPredict = scaler.inverse_transform(trainPredict)\n",
    "trainY = scaler.inverse_transform([trainY])\n",
    "testPredict = scaler.inverse_transform(testPredict)\n",
    "testY = scaler.inverse_transform([testY])"
   ]
  },
  {
   "cell_type": "code",
   "execution_count": null,
   "id": "aef57e13",
   "metadata": {},
   "outputs": [],
   "source": []
  },
  {
   "cell_type": "code",
   "execution_count": 119,
   "id": "e67d046c",
   "metadata": {},
   "outputs": [
    {
     "name": "stdout",
     "output_type": "stream",
     "text": [
      "Train Score: 18.36 RMSE\n",
      "Test Score: 19.18 RMSE\n"
     ]
    }
   ],
   "source": [
    "\n",
    "trainScore = math.sqrt(mean_squared_error(trainY[0], trainPredict[:, 0]))\n",
    "print('Train Score: %.2f RMSE' % (trainScore))\n",
    "testScore = math.sqrt(mean_squared_error(testY[0], testPredict[:, 0]))\n",
    "print('Test Score: %.2f RMSE' % (testScore))"
   ]
  },
  {
   "cell_type": "code",
   "execution_count": 120,
   "id": "7a8cf0a7",
   "metadata": {},
   "outputs": [],
   "source": [
    "# shift train predictions for plotting\n",
    "trainPredictPlot = np.empty_like(dataset)\n",
    "trainPredictPlot[:, :] = np.nan\n",
    "trainPredictPlot[look_back:len(trainPredict) + look_back, :] = trainPredict\n",
    " "
   ]
  },
  {
   "cell_type": "code",
   "execution_count": 121,
   "id": "9d1ad478",
   "metadata": {},
   "outputs": [],
   "source": [
    " # shift test predictions for plotting\n",
    "testPredictPlot = np.empty_like(dataset)\n",
    "testPredictPlot[:, :] = np.nan\n",
    "testPredictPlot[len(trainPredict) + (look_back * 2) + 1:len(dataset) - 1, :] = testPredict\n",
    " "
   ]
  },
  {
   "cell_type": "code",
   "execution_count": 122,
   "id": "3dffb38d",
   "metadata": {
    "scrolled": false
   },
   "outputs": [
    {
     "data": {
      "image/png": "[encoded data removed]",
      "text/plain": [
       "<Figure size 640x480 with 1 Axes>"
      ]
     },
     "metadata": {},
     "output_type": "display_data"
    }
   ],
   "source": [
    "plt.plot(df['Close'], label='Actual')\n",
    "plt.plot(pd.DataFrame(trainPredictPlot, columns=[\"close\"], index=df.index).close, label='Training',linestyle = 'dotted')\n",
    "plt.plot(pd.DataFrame(testPredictPlot, columns=[\"close\"], index=df.index).close, label='Testing',linestyle = 'dotted')\n",
    "plt.legend(loc='best')\n",
    "plt.show()"
   ]
  },
  {
   "cell_type": "code",
   "execution_count": 130,
   "id": "652395da",
   "metadata": {},
   "outputs": [
    {
     "data": {
      "text/plain": [
       "368.05114324967303"
      ]
     },
     "execution_count": 130,
     "metadata": {},
     "output_type": "execute_result"
    }
   ],
   "source": [
    "from sklearn.metrics import mean_squared_error\n",
    "\n",
    "mean_squared_error(testY[0].reshape(-1),testPredict[:, 0])\n",
    "\n"
   ]
  },
  {
   "cell_type": "code",
   "execution_count": 144,
   "id": "af28acfa",
   "metadata": {},
   "outputs": [
    {
     "name": "stdout",
     "output_type": "stream",
     "text": [
      "[[308.18878105 287.46372412 264.30828302 272.59470168 248.9333692\n",
      "  254.8754243  274.33165719 255.35590966 242.98159213 242.96053682\n",
      "  261.19462187 269.93550217 279.49571328 262.21862423 277.10905111\n",
      "  264.84452197 270.52072695 264.60085512 203.36182643 201.53153198\n",
      "  212.46378916 225.06806342 196.50369085 202.77748791 211.19907413\n",
      "  212.44874965 217.1449831  222.26943963 206.56387153 211.34514533\n",
      "  214.75277511 219.84141882 214.46499685 222.13713226 214.85055876\n",
      "  205.44129326 212.74700186 209.55689436 211.52144326 206.81245308\n",
      "  203.54851772 203.24548511 196.19939599 193.12627436 197.61168617\n",
      "  199.52015919 188.79560833 183.09679038 196.41044591 197.63129124\n",
      "  203.56358409 208.66444739 213.48745582 218.51184592 226.09950496\n",
      "  234.79631415 241.22916741 242.79778788 240.17027876 236.231459\n",
      "  233.06784521 225.19591264 244.96839144 252.86155388 263.03653165\n",
      "  270.97927074 256.85373703 270.18650078 266.17224179 268.56924362\n",
      "  257.09708161 273.06651247 271.28559325 272.23694943 267.87237737\n",
      "  256.271923   253.49659702 264.08666515 281.94446713 288.17095688\n",
      "  305.60706185 318.32449497 307.542324   313.52364295 291.98151114\n",
      "  315.00054929 300.22871967 291.57195317 282.02635187 286.18864257\n",
      "  303.30252613 302.7617216  303.78612681 305.35493528 315.19608973\n",
      "  314.7723785  262.17181377 256.74862162 261.4317895  248.8838194\n",
      "  249.76497331 256.32434642 262.9719692  268.75304787 269.33263283\n",
      "  263.92348651 262.46666865 271.68875944 259.92636181 231.29417719\n",
      "  217.6762268  245.27815155 249.04718603 233.79264197 235.92134976\n",
      "  234.10970699 234.72960319 229.60032597 234.14870228 250.82474821\n",
      "  257.82577253 253.23039776 259.00790455 264.04460825 270.75220106\n",
      "  286.57080716 277.86266464 277.92016389 278.2481594  270.70044905\n",
      "  276.78814565 277.15903061 274.94483934 266.43763536 273.7043218\n",
      "  268.13382307 260.80405127 256.52563409 254.96157918 260.13054996\n",
      "  270.48449785 266.3989892  267.72797126 289.76578907 286.75888155\n",
      "  280.00442457 255.74841391 267.51889527 268.42231302 262.87340672\n",
      "  273.70703428 271.11121555 275.22586325 266.20441559 260.77445567\n",
      "  256.53363726 260.16924983 267.10404661 275.00754871 288.61682452\n",
      "  267.8971657  265.50196323 260.2802199  270.99844611 275.13659304\n",
      "  267.77182753 241.2572322  241.66144578 226.41952417 238.84782278\n",
      "  247.23363646 250.87969612 231.93923771 236.25345428 235.52691186\n",
      "  246.83782889 226.27885107 228.26707376 239.05332688 235.78494681\n",
      "  238.09702915 230.86259708 239.19246917 223.60536403 204.62644746\n",
      "  201.27013999 201.68199418 207.4693975  209.73967807 189.52048566\n",
      "  189.8902158  198.96388546 198.01776626 183.97294903 181.20449826\n",
      "  188.28274775 187.19494834 181.87504537 181.17200218 183.84778543\n",
      "  188.78645035 189.23358023 190.66540834 209.77915677 204.25575049\n",
      "  211.22482928 217.1086063  220.4516602  208.80470421 214.46785704\n",
      "  225.74801022 228.82495887 250.20616796 239.37170785 231.54753915\n",
      "  222.34444917 207.30021649 204.0441903  194.5112383  184.38858995\n",
      "  190.56547619 182.95480133 192.99606178 198.88474006 222.5472945\n",
      "  229.34615832 217.89725382 224.06605633 215.14985835 204.45513137\n",
      "  201.71189862 188.42876524 172.04706392 151.7290539  156.39575889\n",
      "  146.84588745 144.72815044 148.2964478  144.47897805 149.02414504\n",
      "  153.45162789 147.91909048 147.3747275  146.16348329 144.80357625\n",
      "  146.63529408 165.12032402 168.68193417 173.52580992 184.63527813\n",
      "  178.89982825 185.62585788 179.4443255  168.67033227 173.77044359\n",
      "  174.39193775 176.29377728 182.37001968 179.30949365 163.38528873\n",
      "  160.1378834  161.28519628 153.93528229 147.96924455 150.90546638\n",
      "  149.12062615 147.03302187 153.46913817 157.66095733 150.72887304\n",
      "  170.19031605 177.53414711 177.70994819 172.03264211 159.71348734\n",
      "  165.7736697  159.14575942 158.06268671 204.84634652 188.72947479\n",
      "  179.31567059 170.67378246 185.47524797 176.17025191 185.6642489\n",
      "  183.27870126 189.61924956 187.82162575 195.11420163 197.47737801\n",
      "  194.60248244 191.84868176 193.85390446 197.39028315 203.92690901\n",
      "  199.80319732 207.19203947 215.11161504 214.81909665 222.00604685\n",
      "  221.57760893 212.70011082 218.30991369 212.55395905 217.24580151\n",
      "  221.95245519 222.39123277 213.76078541 226.4692351  217.12074533\n",
      "  240.22203078 236.04174638 225.62764046 232.85750698 236.90608827\n",
      "  229.63276833 239.26342341 236.28581608 241.26453711 266.57154067\n",
      "  254.10781865 266.56321523 279.39312236 268.13911375 267.00134827\n",
      "  252.90616213 254.4025124  229.2309181  229.51425165 226.97421337\n",
      "  220.68798187 214.66256493 212.6691187  198.66716407 207.54103658\n",
      "  225.18169225 206.6223779  217.00574682 204.20375677 217.2389263\n",
      "  175.35143138 162.95693137 138.74616008 137.88595405 143.94507559\n",
      "  154.37052828 171.67938828 162.22599795 172.86835523 155.32757798\n",
      "  165.81943277 174.22254189 175.99365857 187.16049175 185.18231331\n",
      "  193.09316059 203.91544138 189.53763338 180.34871008 175.68643637\n",
      "  186.07270577 204.20923545 198.53982511 198.62341522 201.39535731\n",
      "  193.97533504 189.13233213 187.98410613 189.51211994 187.56771324\n",
      "  186.44154966 185.37985453 173.87631097 166.09513914 159.04114085\n",
      "  132.09399859 119.28409937 118.00106838 106.44077754 114.31150157\n",
      "  104.18310599 114.21699439 117.29762234 118.79727594 111.17499917\n",
      "  122.69638871 126.46510092 127.48186552 125.32424697 120.3909533\n",
      "  117.50825599 118.69426875 112.76263388 115.03934652 116.01438992\n",
      "  116.36842258 124.01552795 122.33963015 125.49456937 130.43683303\n",
      "  125.61722191 127.17316623 129.15738734 127.01979013 123.1855755\n",
      "  124.01904612 133.76483399 138.90672023 139.03599284 135.95356553\n",
      "  147.4839922  146.97838281 151.67116523 151.00566709 149.29468158\n",
      "  146.42386817 151.45973932 143.95591209 151.02049175 161.60518863\n",
      "  162.39047912 160.12046711 155.70882946 154.84558867 160.91013518\n",
      "  156.71726862 156.66969275 159.33557947 161.64242483 160.66285615\n",
      "  164.78942803 167.20132166 158.05574437 167.74557721 160.07087703\n",
      "  166.26206423 166.47820342 165.52017346 163.68022418 169.8761918\n",
      "  168.48714571 159.69121007 142.57288181 149.01261027 154.509308\n",
      "  153.89037862 154.6171896  150.9732113  154.21728645 142.71081556\n",
      "  145.05543426 146.42282077 152.63466044 148.69573325 149.02783777\n",
      "  153.87688335 153.44453784 154.35035922 155.6311343  157.50533873\n",
      "  145.02614751 149.23257648 152.17533781 159.72017455 157.58105996\n",
      "  158.86035794 163.91185943 145.66954294 149.80273489 145.81016233\n",
      "  149.40898182 147.77962592 140.52912037 140.48653977 142.35417785\n",
      "  135.60667663 144.16851968 141.40615185 141.76507234 141.10409948\n",
      "  145.70939764 144.61305793 147.29605209 148.34681671 147.30729143\n",
      "  140.87285365 136.91734272 141.72237089 146.86735903 146.25388146\n",
      "  149.13208035 146.4793532  147.31446205 145.68626097 142.33032949\n",
      "  144.71096243 144.8823188  142.84051787 140.50818591 139.52072149\n",
      "  143.16439095 143.61200424 146.09383158 145.04485289 141.2076438\n",
      "  140.7294815 ]]\n"
     ]
    }
   ],
   "source": [
    "from sklearn.metrics import accuracy_score\n",
    "#accuracy_score(testY, testPredict)\n",
    "print(testY)"
   ]
  },
  {
   "cell_type": "code",
   "execution_count": 64,
   "id": "1b6d3fd2",
   "metadata": {},
   "outputs": [],
   "source": [
    "    from keras.models import load_model\n",
    "    model.save('xmr.h5') \n",
    "    model.save_weights('xmr_weights.h5')  # to store"
   ]
  }
 ],
 "metadata": {
  "kernelspec": {
   "display_name": "Python 3 (ipykernel)",
   "language": "python",
   "name": "python3"
  },
  "language_info": {
   "codemirror_mode": {
    "name": "ipython",
    "version": 3
   },
   "file_extension": ".py",
   "mimetype": "text/x-python",
   "name": "python",
   "nbconvert_exporter": "python",
   "pygments_lexer": "ipython3",
   "version": "3.10.8"
  }
 },
 "nbformat": 4,
 "nbformat_minor": 5
}
